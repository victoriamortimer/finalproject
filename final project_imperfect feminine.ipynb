{
 "cells": [
  {
   "cell_type": "markdown",
   "id": "4fcffafc-70a2-46be-a7a9-7d598ea07341",
   "metadata": {},
   "source": [
    "# For weeks, I had this idea in my mind that I wanted my final project to be related to love. \n",
    "It could be in any form, I just had to find the right data set\n",
    "Also, recently I became obsessed with this media outlet called The Pudding that produces visual data-based stories -- and after investigating\n",
    "their website I found a data set that would be perfect for me: Billboard's Top 100 list\n",
    "Due to a trend they saw on social media where people were addressing the apparent 'death of the love song'\n",
    "what they did was ask a question to the data: Is the love song dying?\n",
    "\n",
    "Last week, I got my Spotify Wrapped and while I was not surprised at all with the result, I was a bit disappointed: in the end, it seems like\n",
    "I'm just a girl after all. Lana del Rey, Ariana Grande, Taylor Swift, and obviously the brat-summer queen, Charli XCX\n",
    "\n",
    "Also, for months, or years now, I've been seeing both on media and social media what one of my favorite podcasts called 'the imperfect feminine'\n",
    "trend, which coincided a lot with my Spotify results. \n",
    "\n",
    "So I decided to take the same data set The Pudding used but to analyze another possible trend: When did the 'imperfect feminine' movement in music start?\n",
    "And is it an actual trend after all? How did popular taste in music change over the decades?\n",
    "\n",
    "The first step was downloading the .csv file with the Billboard data and cleaning and organizing the database - then, I had to decide how to analize which were the top songs of the year?\n",
    "What was the methodology I was going to use. \n",
    "1. First, I would select the top 10 songs per month\n",
    "2. Secondly, I would combine the top 10 songs of every month and, depending how many weeks each of them spent on the top 10, I would choose the Top 10 of the year\n",
    "3. Clasify songs per genre\n",
    "\n",
    "For this analysis, I used a mix of hand-work & Chat GPT\n",
    "- first I sorted the data chronologically by hand, then prompted ChatGPT to sort the data from most popular songs to least based on the amount of weeks each song spent on the top of the chart\n",
    "\n",
    "- and when I got the data sorted out, I decided to upload it to jupyter and start asking some questions\n"
   ]
  },
  {
   "cell_type": "code",
   "execution_count": 1,
   "id": "0dd5860f-b37a-461d-87ac-e131246722c3",
   "metadata": {},
   "outputs": [],
   "source": [
    "import pandas as pd"
   ]
  },
  {
   "cell_type": "code",
   "execution_count": 2,
   "id": "de7e5794-5447-405c-bd18-34ea9b41e1ac",
   "metadata": {},
   "outputs": [],
   "source": [
    "df = pd.read_csv('billboard.csv')"
   ]
  },
  {
   "cell_type": "code",
   "execution_count": 3,
   "id": "197a5d85-71e1-48b2-add7-863e898855ce",
   "metadata": {},
   "outputs": [
    {
     "data": {
      "text/html": [
       "<div>\n",
       "<style scoped>\n",
       "    .dataframe tbody tr th:only-of-type {\n",
       "        vertical-align: middle;\n",
       "    }\n",
       "\n",
       "    .dataframe tbody tr th {\n",
       "        vertical-align: top;\n",
       "    }\n",
       "\n",
       "    .dataframe thead th {\n",
       "        text-align: right;\n",
       "    }\n",
       "</style>\n",
       "<table border=\"1\" class=\"dataframe\">\n",
       "  <thead>\n",
       "    <tr style=\"text-align: right;\">\n",
       "      <th></th>\n",
       "      <th>chart_week</th>\n",
       "      <th>current_week</th>\n",
       "      <th>title</th>\n",
       "      <th>performer</th>\n",
       "      <th>last_week</th>\n",
       "      <th>peak_pos</th>\n",
       "      <th>wks_on_chart</th>\n",
       "      <th>year</th>\n",
       "    </tr>\n",
       "  </thead>\n",
       "  <tbody>\n",
       "    <tr>\n",
       "      <th>0</th>\n",
       "      <td>2024-12-07</td>\n",
       "      <td>16</td>\n",
       "      <td>Lose Control</td>\n",
       "      <td>Teddy Swims</td>\n",
       "      <td>4.0</td>\n",
       "      <td>1</td>\n",
       "      <td>68</td>\n",
       "      <td>2024</td>\n",
       "    </tr>\n",
       "    <tr>\n",
       "      <th>1</th>\n",
       "      <td>2024-12-07</td>\n",
       "      <td>10</td>\n",
       "      <td>All I Want For Christmas Is You</td>\n",
       "      <td>Mariah Carey</td>\n",
       "      <td>16.0</td>\n",
       "      <td>1</td>\n",
       "      <td>67</td>\n",
       "      <td>2024</td>\n",
       "    </tr>\n",
       "    <tr>\n",
       "      <th>2</th>\n",
       "      <td>2024-12-07</td>\n",
       "      <td>15</td>\n",
       "      <td>Rockin' Around The Christmas Tree</td>\n",
       "      <td>Brenda Lee</td>\n",
       "      <td>23.0</td>\n",
       "      <td>1</td>\n",
       "      <td>60</td>\n",
       "      <td>2024</td>\n",
       "    </tr>\n",
       "    <tr>\n",
       "      <th>3</th>\n",
       "      <td>2024-12-07</td>\n",
       "      <td>19</td>\n",
       "      <td>Jingle Bell Rock</td>\n",
       "      <td>Bobby Helms</td>\n",
       "      <td>0.0</td>\n",
       "      <td>3</td>\n",
       "      <td>57</td>\n",
       "      <td>2024</td>\n",
       "    </tr>\n",
       "    <tr>\n",
       "      <th>4</th>\n",
       "      <td>2024-12-07</td>\n",
       "      <td>25</td>\n",
       "      <td>Beautiful Things</td>\n",
       "      <td>Benson Boone</td>\n",
       "      <td>9.0</td>\n",
       "      <td>2</td>\n",
       "      <td>45</td>\n",
       "      <td>2024</td>\n",
       "    </tr>\n",
       "    <tr>\n",
       "      <th>...</th>\n",
       "      <td>...</td>\n",
       "      <td>...</td>\n",
       "      <td>...</td>\n",
       "      <td>...</td>\n",
       "      <td>...</td>\n",
       "      <td>...</td>\n",
       "      <td>...</td>\n",
       "      <td>...</td>\n",
       "    </tr>\n",
       "    <tr>\n",
       "      <th>346195</th>\n",
       "      <td>1958-08-04</td>\n",
       "      <td>96</td>\n",
       "      <td>Over And Over</td>\n",
       "      <td>Thurston Harris</td>\n",
       "      <td>NaN</td>\n",
       "      <td>96</td>\n",
       "      <td>1</td>\n",
       "      <td>1958</td>\n",
       "    </tr>\n",
       "    <tr>\n",
       "      <th>346196</th>\n",
       "      <td>1958-08-04</td>\n",
       "      <td>97</td>\n",
       "      <td>I Believe In You</td>\n",
       "      <td>Robert &amp; Johnny</td>\n",
       "      <td>NaN</td>\n",
       "      <td>97</td>\n",
       "      <td>1</td>\n",
       "      <td>1958</td>\n",
       "    </tr>\n",
       "    <tr>\n",
       "      <th>346197</th>\n",
       "      <td>1958-08-04</td>\n",
       "      <td>98</td>\n",
       "      <td>Little Serenade</td>\n",
       "      <td>The Ames Brothers</td>\n",
       "      <td>NaN</td>\n",
       "      <td>98</td>\n",
       "      <td>1</td>\n",
       "      <td>1958</td>\n",
       "    </tr>\n",
       "    <tr>\n",
       "      <th>346198</th>\n",
       "      <td>1958-08-04</td>\n",
       "      <td>99</td>\n",
       "      <td>I'll Get By (As Long As I Have You)</td>\n",
       "      <td>Billy Williams</td>\n",
       "      <td>NaN</td>\n",
       "      <td>99</td>\n",
       "      <td>1</td>\n",
       "      <td>1958</td>\n",
       "    </tr>\n",
       "    <tr>\n",
       "      <th>346199</th>\n",
       "      <td>1958-08-04</td>\n",
       "      <td>100</td>\n",
       "      <td>Judy</td>\n",
       "      <td>Frankie Vaughan</td>\n",
       "      <td>NaN</td>\n",
       "      <td>100</td>\n",
       "      <td>1</td>\n",
       "      <td>1958</td>\n",
       "    </tr>\n",
       "  </tbody>\n",
       "</table>\n",
       "<p>346200 rows × 8 columns</p>\n",
       "</div>"
      ],
      "text/plain": [
       "        chart_week  current_week                                title  \\\n",
       "0       2024-12-07            16                         Lose Control   \n",
       "1       2024-12-07            10      All I Want For Christmas Is You   \n",
       "2       2024-12-07            15    Rockin' Around The Christmas Tree   \n",
       "3       2024-12-07            19                     Jingle Bell Rock   \n",
       "4       2024-12-07            25                     Beautiful Things   \n",
       "...            ...           ...                                  ...   \n",
       "346195  1958-08-04            96                        Over And Over   \n",
       "346196  1958-08-04            97                     I Believe In You   \n",
       "346197  1958-08-04            98                      Little Serenade   \n",
       "346198  1958-08-04            99  I'll Get By (As Long As I Have You)   \n",
       "346199  1958-08-04           100                                 Judy   \n",
       "\n",
       "                performer  last_week  peak_pos  wks_on_chart  year  \n",
       "0             Teddy Swims        4.0         1            68  2024  \n",
       "1            Mariah Carey       16.0         1            67  2024  \n",
       "2              Brenda Lee       23.0         1            60  2024  \n",
       "3             Bobby Helms        0.0         3            57  2024  \n",
       "4            Benson Boone        9.0         2            45  2024  \n",
       "...                   ...        ...       ...           ...   ...  \n",
       "346195    Thurston Harris        NaN        96             1  1958  \n",
       "346196    Robert & Johnny        NaN        97             1  1958  \n",
       "346197  The Ames Brothers        NaN        98             1  1958  \n",
       "346198     Billy Williams        NaN        99             1  1958  \n",
       "346199    Frankie Vaughan        NaN       100             1  1958  \n",
       "\n",
       "[346200 rows x 8 columns]"
      ]
     },
     "execution_count": 3,
     "metadata": {},
     "output_type": "execute_result"
    }
   ],
   "source": [
    "df"
   ]
  },
  {
   "cell_type": "code",
   "execution_count": 5,
   "id": "16f2cc8d-c7d9-4b08-b7b2-ad900fc92b08",
   "metadata": {},
   "outputs": [],
   "source": [
    "year_artist = df[['year', 'performer']]"
   ]
  },
  {
   "cell_type": "code",
   "execution_count": 6,
   "id": "15f18c29-6ece-499b-9abb-d47f63529f0a",
   "metadata": {},
   "outputs": [
    {
     "data": {
      "text/html": [
       "<div>\n",
       "<style scoped>\n",
       "    .dataframe tbody tr th:only-of-type {\n",
       "        vertical-align: middle;\n",
       "    }\n",
       "\n",
       "    .dataframe tbody tr th {\n",
       "        vertical-align: top;\n",
       "    }\n",
       "\n",
       "    .dataframe thead th {\n",
       "        text-align: right;\n",
       "    }\n",
       "</style>\n",
       "<table border=\"1\" class=\"dataframe\">\n",
       "  <thead>\n",
       "    <tr style=\"text-align: right;\">\n",
       "      <th></th>\n",
       "      <th>year</th>\n",
       "      <th>performer</th>\n",
       "    </tr>\n",
       "  </thead>\n",
       "  <tbody>\n",
       "    <tr>\n",
       "      <th>0</th>\n",
       "      <td>2024</td>\n",
       "      <td>Teddy Swims</td>\n",
       "    </tr>\n",
       "    <tr>\n",
       "      <th>1</th>\n",
       "      <td>2024</td>\n",
       "      <td>Mariah Carey</td>\n",
       "    </tr>\n",
       "    <tr>\n",
       "      <th>2</th>\n",
       "      <td>2024</td>\n",
       "      <td>Brenda Lee</td>\n",
       "    </tr>\n",
       "    <tr>\n",
       "      <th>3</th>\n",
       "      <td>2024</td>\n",
       "      <td>Bobby Helms</td>\n",
       "    </tr>\n",
       "    <tr>\n",
       "      <th>4</th>\n",
       "      <td>2024</td>\n",
       "      <td>Benson Boone</td>\n",
       "    </tr>\n",
       "    <tr>\n",
       "      <th>...</th>\n",
       "      <td>...</td>\n",
       "      <td>...</td>\n",
       "    </tr>\n",
       "    <tr>\n",
       "      <th>346195</th>\n",
       "      <td>1958</td>\n",
       "      <td>Thurston Harris</td>\n",
       "    </tr>\n",
       "    <tr>\n",
       "      <th>346196</th>\n",
       "      <td>1958</td>\n",
       "      <td>Robert &amp; Johnny</td>\n",
       "    </tr>\n",
       "    <tr>\n",
       "      <th>346197</th>\n",
       "      <td>1958</td>\n",
       "      <td>The Ames Brothers</td>\n",
       "    </tr>\n",
       "    <tr>\n",
       "      <th>346198</th>\n",
       "      <td>1958</td>\n",
       "      <td>Billy Williams</td>\n",
       "    </tr>\n",
       "    <tr>\n",
       "      <th>346199</th>\n",
       "      <td>1958</td>\n",
       "      <td>Frankie Vaughan</td>\n",
       "    </tr>\n",
       "  </tbody>\n",
       "</table>\n",
       "<p>346200 rows × 2 columns</p>\n",
       "</div>"
      ],
      "text/plain": [
       "        year          performer\n",
       "0       2024        Teddy Swims\n",
       "1       2024       Mariah Carey\n",
       "2       2024         Brenda Lee\n",
       "3       2024        Bobby Helms\n",
       "4       2024       Benson Boone\n",
       "...      ...                ...\n",
       "346195  1958    Thurston Harris\n",
       "346196  1958    Robert & Johnny\n",
       "346197  1958  The Ames Brothers\n",
       "346198  1958     Billy Williams\n",
       "346199  1958    Frankie Vaughan\n",
       "\n",
       "[346200 rows x 2 columns]"
      ]
     },
     "execution_count": 6,
     "metadata": {},
     "output_type": "execute_result"
    }
   ],
   "source": [
    "year_artist"
   ]
  },
  {
   "cell_type": "markdown",
   "id": "20b4b6fa-9bed-43f4-996e-9202d9bd9262",
   "metadata": {},
   "source": [
    "- so the first thing I did was just filter by year and artist: my question was, who was the artist that had most songs in the top #100 each year since 1958?"
   ]
  },
  {
   "cell_type": "code",
   "execution_count": 8,
   "id": "ff57ae75-fb53-49a5-a566-5a08452f95b2",
   "metadata": {},
   "outputs": [],
   "source": [
    "year_artist = df.groupby('year')['performer'].value_counts()"
   ]
  },
  {
   "cell_type": "code",
   "execution_count": 9,
   "id": "c6ae23d1-b257-4c0f-bade-9d4d835a2182",
   "metadata": {},
   "outputs": [
    {
     "data": {
      "text/plain": [
       "performer\n",
       "The Everly Brothers               48\n",
       "Pat Boone                         46\n",
       "Cozy Cole                         37\n",
       "Jack Scott                        34\n",
       "Ricky Nelson                      34\n",
       "                                  ..\n",
       "The Honeycones                     1\n",
       "The McGuire Sisters                1\n",
       "The Swallows                       1\n",
       "Thurston Harris                    1\n",
       "Wade Flemons and the Newcomers     1\n",
       "Name: count, Length: 221, dtype: int64"
      ]
     },
     "execution_count": 9,
     "metadata": {},
     "output_type": "execute_result"
    }
   ],
   "source": [
    "year_artist.loc[1958]"
   ]
  },
  {
   "cell_type": "markdown",
   "id": "0ef8684f-dbcb-4e70-9f42-fdfb594e6e51",
   "metadata": {},
   "source": [
    "I realized that if I had to do this manually it would take me ages, so I just decided to analyze per decade..."
   ]
  },
  {
   "cell_type": "markdown",
   "id": "2c7a0e44-7df8-46ae-a022-4ea20efbb13b",
   "metadata": {},
   "source": [
    "So... who was the top artist of each decade since the 1960s? My hypothesis was that naturally the top artists in the 60s, 70s and 80s would be men - and that pop wouldn't probably be the genre with the most songs in the top #100... but data proved me wrong! I guess?"
   ]
  },
  {
   "cell_type": "code",
   "execution_count": 13,
   "id": "f03e6e3d-ef51-46df-8583-732bb7b8af0d",
   "metadata": {},
   "outputs": [
    {
     "data": {
      "text/plain": [
       "performer\n",
       "Connie Francis                                             101\n",
       "The Everly Brothers                                         87\n",
       "Jackie Wilson                                               86\n",
       "Fats Domino                                                 85\n",
       "Bobby Rydell                                                84\n",
       "                                                          ... \n",
       "Stan Freberg                                                 1\n",
       "The Clovers                                                  1\n",
       "The Drifters Featuring Clyde McPhatter And Bill Pinkney      1\n",
       "The Heartbeats                                               1\n",
       "Wink Martindale                                              1\n",
       "Name: count, Length: 326, dtype: int64"
      ]
     },
     "execution_count": 13,
     "metadata": {},
     "output_type": "execute_result"
    }
   ],
   "source": [
    "year_artist.loc[1960] # when I searched for Connie Francis, I was surprised to learn she's a woman and pop artist as well"
   ]
  },
  {
   "cell_type": "code",
   "execution_count": 24,
   "id": "4a152fde-9122-4868-9a80-e3c1627e1e93",
   "metadata": {},
   "outputs": [
    {
     "data": {
      "text/plain": [
       "performer\n",
       "Connie Francis                              76\n",
       "Chubby Checker                              71\n",
       "Fats Domino                                 71\n",
       "Brenda Lee                                  69\n",
       "The Shirelles                               65\n",
       "                                            ..\n",
       "The Corsairs Featuring Jay \"Bird\" Uzzell     1\n",
       "The Excels                                   1\n",
       "The Five Satins                              1\n",
       "The Texans                                   1\n",
       "Tina Robin                                   1\n",
       "Name: count, Length: 394, dtype: int64"
      ]
     },
     "execution_count": 24,
     "metadata": {},
     "output_type": "execute_result"
    }
   ],
   "source": [
    "year_artist.loc[1961]"
   ]
  },
  {
   "cell_type": "code",
   "execution_count": 14,
   "id": "43be9bcf-309b-41d6-bf9d-941343df5754",
   "metadata": {},
   "outputs": [
    {
     "data": {
      "text/plain": [
       "performer\n",
       "Neil Diamond               77\n",
       "The 5th Dimension          55\n",
       "Jackson 5                  53\n",
       "James Brown                51\n",
       "Elvis Presley              49\n",
       "                           ..\n",
       "The Jazz Crusaders          1\n",
       "The Manhattans              1\n",
       "The Ray Charles Singers     1\n",
       "Wadsworth Mansion           1\n",
       "Waylon Jennings             1\n",
       "Name: count, Length: 422, dtype: int64"
      ]
     },
     "execution_count": 14,
     "metadata": {},
     "output_type": "execute_result"
    }
   ],
   "source": [
    "year_artist.loc[1970] # man and it could be categorized as pop/rock/folk"
   ]
  },
  {
   "cell_type": "code",
   "execution_count": 15,
   "id": "2d259c46-63aa-4c31-895c-0940e57d5b7f",
   "metadata": {},
   "outputs": [
    {
     "data": {
      "text/plain": [
       "performer\n",
       "Air Supply                       60\n",
       "Billy Joel                       60\n",
       "Bob Seger                        57\n",
       "Christopher Cross                54\n",
       "Pat Benatar                      54\n",
       "                                 ..\n",
       "Outlaws                           1\n",
       "Rainbow                           1\n",
       "Richie Furay                      1\n",
       "Willis \"The Guard\" & Vigorish     1\n",
       "Yvonne Elliman                    1\n",
       "Name: count, Length: 361, dtype: int64"
      ]
     },
     "execution_count": 15,
     "metadata": {},
     "output_type": "execute_result"
    }
   ],
   "source": [
    "year_artist.loc[1980] # men and rock"
   ]
  },
  {
   "cell_type": "code",
   "execution_count": 16,
   "id": "391d70ba-73a4-4d51-9110-89fe3f13a980",
   "metadata": {},
   "outputs": [
    {
     "data": {
      "text/plain": [
       "performer\n",
       "Janet Jackson           84\n",
       "Phil Collins            75\n",
       "Depeche Mode            62\n",
       "Taylor Dayne            61\n",
       "Madonna                 60\n",
       "                        ..\n",
       "Tracie Spencer           2\n",
       "Christopher Williams     1\n",
       "Chunky A                 1\n",
       "Hooters                  1\n",
       "Lita Ford                1\n",
       "Name: count, Length: 302, dtype: int64"
      ]
     },
     "execution_count": 16,
     "metadata": {},
     "output_type": "execute_result"
    }
   ],
   "source": [
    "year_artist.loc[1990] # woman and pop"
   ]
  },
  {
   "cell_type": "code",
   "execution_count": 17,
   "id": "1b6cbdb1-3f96-4f05-8d95-f4dc374a3986",
   "metadata": {},
   "outputs": [
    {
     "data": {
      "text/plain": [
       "performer\n",
       "Destiny's Child            84\n",
       "Faith Hill                 80\n",
       "Lonestar                   79\n",
       "Creed                      75\n",
       "Marc Anthony               72\n",
       "                           ..\n",
       "Nas                         1\n",
       "NewSong                     1\n",
       "Shaggy Featuring Rayvon     1\n",
       "Sunday                      1\n",
       "Xzibit                      1\n",
       "Name: count, Length: 308, dtype: int64"
      ]
     },
     "execution_count": 17,
     "metadata": {},
     "output_type": "execute_result"
    }
   ],
   "source": [
    "year_artist.loc[2000] # women and pop"
   ]
  },
  {
   "cell_type": "code",
   "execution_count": 18,
   "id": "ffdac065-99cf-4bcc-b848-f0731477295b",
   "metadata": {},
   "outputs": [
    {
     "data": {
      "text/plain": [
       "performer\n",
       "Taylor Swift                                  92\n",
       "Lady Antebellum                               89\n",
       "The Black Eyed Peas                           88\n",
       "Ke$ha                                         86\n",
       "Glee Cast                                     78\n",
       "                                              ..\n",
       "The Killers                                    1\n",
       "Theory Of A Deadman                            1\n",
       "Victorious Cast Featuring Victoria Justice     1\n",
       "Will Young                                     1\n",
       "k.d. lang                                      1\n",
       "Name: count, Length: 357, dtype: int64"
      ]
     },
     "execution_count": 18,
     "metadata": {},
     "output_type": "execute_result"
    }
   ],
   "source": [
    "year_artist.loc[2010] # women and pop"
   ]
  },
  {
   "cell_type": "code",
   "execution_count": 19,
   "id": "d5feea6e-c7a8-4e63-9050-fa59d8d32d71",
   "metadata": {},
   "outputs": [
    {
     "data": {
      "text/plain": [
       "performer\n",
       "The Weeknd                                                104\n",
       "Lil Baby                                                   99\n",
       "Harry Styles                                               88\n",
       "Morgan Wallen                                              86\n",
       "Dua Lipa                                                   79\n",
       "                                                         ... \n",
       "YoungBoy Never Broke Again Featuring DaBaby                 1\n",
       "YoungBoy Never Broke Again Featuring Lil Baby               1\n",
       "YoungBoy Never Broke Again Featuring Sherhonda Gaulden      1\n",
       "Zac Brown Band                                              1\n",
       "Zayn                                                        1\n",
       "Name: count, Length: 465, dtype: int64"
      ]
     },
     "execution_count": 19,
     "metadata": {},
     "output_type": "execute_result"
    }
   ],
   "source": [
    "year_artist.loc[2020] # man and pop"
   ]
  },
  {
   "cell_type": "code",
   "execution_count": 20,
   "id": "b7e12a20-6b91-499d-b508-ad04b4a583d3",
   "metadata": {},
   "outputs": [
    {
     "data": {
      "text/plain": [
       "performer\n",
       "Olivia Rodrigo                              172\n",
       "Morgan Wallen                               100\n",
       "Doja Cat                                     94\n",
       "Luke Combs                                   72\n",
       "The Weeknd                                   68\n",
       "                                           ... \n",
       "Young Thug With J. Cole & T-Shyne             1\n",
       "Young Thug With Juice WRLD                    1\n",
       "Young Thug With Post Malone & A$AP Rocky      1\n",
       "Yung Miami                                    1\n",
       "twenty one pilots                             1\n",
       "Name: count, Length: 489, dtype: int64"
      ]
     },
     "execution_count": 20,
     "metadata": {},
     "output_type": "execute_result"
    }
   ],
   "source": [
    "year_artist.loc[2021] # woman, pop and part of the 'imperfect feminine' movement? "
   ]
  },
  {
   "cell_type": "code",
   "execution_count": 21,
   "id": "65f870da-70f0-4723-97f9-0d28c3ae325b",
   "metadata": {},
   "outputs": [
    {
     "data": {
      "text/plain": [
       "performer\n",
       "Bad Bunny                                        148\n",
       "Taylor Swift                                     121\n",
       "Morgan Wallen                                    119\n",
       "Harry Styles                                     107\n",
       "Doja Cat                                         103\n",
       "                                                ... \n",
       "XXXTENTACION                                       1\n",
       "YG Featuring J. Cole & Moneybagg Yo                1\n",
       "Yeat Featuring Lil Uzi Vert                        1\n",
       "YoungBoy Never Broke Again & Birdman               1\n",
       "YoungBoy Never Broke Again Featuring Rod Wave      1\n",
       "Name: count, Length: 472, dtype: int64"
      ]
     },
     "execution_count": 21,
     "metadata": {},
     "output_type": "execute_result"
    }
   ],
   "source": [
    "year_artist.loc[2022] # man, Latin"
   ]
  },
  {
   "cell_type": "code",
   "execution_count": 22,
   "id": "97eb25b5-efc5-4168-a026-b77684fe41e4",
   "metadata": {},
   "outputs": [
    {
     "data": {
      "text/plain": [
       "performer\n",
       "Morgan Wallen                                       327\n",
       "Taylor Swift                                        208\n",
       "SZA                                                 177\n",
       "Luke Combs                                          115\n",
       "Olivia Rodrigo                                       88\n",
       "                                                   ... \n",
       "Young Thug Featuring Travis Scott                     1\n",
       "YoungBoy Never Broke Again & Rod Wave                 1\n",
       "YoungBoy Never Broke Again Featuring Nicki Minaj      1\n",
       "blink-182                                             1\n",
       "j-hope With J. Cole                                   1\n",
       "Name: count, Length: 455, dtype: int64"
      ]
     },
     "execution_count": 22,
     "metadata": {},
     "output_type": "execute_result"
    }
   ],
   "source": [
    "year_artist.loc[2023] # this was surprising... I didn't know who Morgan Wallen is."
   ]
  },
  {
   "cell_type": "code",
   "execution_count": 25,
   "id": "b5531a21-1889-4d24-ad5b-e78c05e91218",
   "metadata": {},
   "outputs": [
    {
     "data": {
      "text/plain": [
       "performer\n",
       "Taylor Swift                                       214\n",
       "Sabrina Carpenter                                  174\n",
       "Billie Eilish                                      135\n",
       "Chappell Roan                                      133\n",
       "Zach Bryan                                          85\n",
       "                                                  ... \n",
       "Vince Guaraldi Trio                                  1\n",
       "Zach Bryan Featuring John Moreland                   1\n",
       "mgk                                                  1\n",
       "twenty one pilots                                    1\n",
       "¥$: Kanye West & Ty Dolla $ign Featuring Future      1\n",
       "Name: count, Length: 430, dtype: int64"
      ]
     },
     "execution_count": 25,
     "metadata": {},
     "output_type": "execute_result"
    }
   ],
   "source": [
    "year_artist.loc[2024] # and 2024, definitely the 'imperfect femninine' movement reached it's peak! Taylor, Sabrina, Billie Eilish and Chappell Roan. Also, this proves my point: I'm just (proudly) just like every other girl - at least when it comes to music!"
   ]
  },
  {
   "cell_type": "markdown",
   "id": "96ce1b0d-878c-4aeb-8f58-b29590806721",
   "metadata": {},
   "source": [
    "After I wanted to categorize songs, but again I had to do this manually - just to see if my point was further proved, but also wondering... did this movement start in 2024? Or earlier? So I went back to my csv, edited, and uploaded it to Jupyter again - again, it was too much data just to do this manually, so I decided to reduce my time frame just to the last decade, since 2020. "
   ]
  },
  {
   "cell_type": "code",
   "execution_count": 29,
   "id": "f754a0ae-0047-4f2f-af2e-30ca1fb60622",
   "metadata": {},
   "outputs": [],
   "source": [
    "import pandas as pd"
   ]
  },
  {
   "cell_type": "code",
   "execution_count": 87,
   "id": "de009b2e-90fd-460c-ab25-44b601b48501",
   "metadata": {},
   "outputs": [],
   "source": [
    "lyrics = \"\"\"\n",
    "Things fall apart and time breaks your heart\n",
    "I wasn't there, but I know\n",
    "She was your girl, you showed her the world\n",
    "You fell out of love and you both let go\n",
    "She was cryin' on my shoulder, all I could do was hold her\n",
    "Only made us closer until July\n",
    "Now I know that you love me, you don't need to remind me\n",
    "I should put it all behind me, shouldn't I?\n",
    "But I see her in the back of my mind\n",
    "All the time\n",
    "Like a fever, like I'm burning alive\n",
    "Like a sign\n",
    "Did I cross the line?\n",
    "Mm, hm\n",
    "Well, good things don't last (good things don't last)\n",
    "And life moves so fast (life moves so fast)\n",
    "I'd never ask who was better (I'd never ask who was better)\n",
    "'Cause she couldn't be (she couldn't be)\n",
    "More different from me (more different)\n",
    "Happy and free (happy and free) in leather\n",
    "And I know that you love me (you love me)\n",
    "You don't need to remind me (remind me)\n",
    "Wanna put it all behind me, but baby\n",
    "I see her in the back of my mind (back of my mind)\n",
    "All the time (all the time)\n",
    "Feels like a fever (like a fever), like I'm burning alive (burning alive)\n",
    "Like a sign\n",
    "Did I cross the line?\n",
    "You say no one knows you so well (oh)\n",
    "But every time you touch me, I just wonder how she felt\n",
    "Valentine's Day, cryin' in the hotel\n",
    "I know you didn't mean to hurt me, so I kept it to myself\n",
    "And I wonder\n",
    "Do you see her in the back of your mind?\n",
    "In my eyes?\n",
    "You say no one knows you so well\n",
    "But every time you touch me, I just wonder how she felt\n",
    "Valentine's Day, cryin' in the hotel\n",
    "I know you didn't mean to hurt me, so I kept it to myself\n",
    "\"\"\""
   ]
  },
  {
   "cell_type": "code",
   "execution_count": 88,
   "id": "572edf8e-bf32-441f-8ee6-75ad6ddd4218",
   "metadata": {},
   "outputs": [],
   "source": [
    "words = lyrics.split()"
   ]
  },
  {
   "cell_type": "code",
   "execution_count": 89,
   "id": "26fcaa4a-7f89-4ec9-8d4a-d345eca0db56",
   "metadata": {},
   "outputs": [],
   "source": [
    "df = pd.DataFrame(words, columns=['Word'])"
   ]
  },
  {
   "cell_type": "code",
   "execution_count": 90,
   "id": "5c86babe-af08-41c4-8938-dfde31026ac4",
   "metadata": {},
   "outputs": [
    {
     "data": {
      "text/html": [
       "<div>\n",
       "<style scoped>\n",
       "    .dataframe tbody tr th:only-of-type {\n",
       "        vertical-align: middle;\n",
       "    }\n",
       "\n",
       "    .dataframe tbody tr th {\n",
       "        vertical-align: top;\n",
       "    }\n",
       "\n",
       "    .dataframe thead th {\n",
       "        text-align: right;\n",
       "    }\n",
       "</style>\n",
       "<table border=\"1\" class=\"dataframe\">\n",
       "  <thead>\n",
       "    <tr style=\"text-align: right;\">\n",
       "      <th></th>\n",
       "      <th>Word</th>\n",
       "    </tr>\n",
       "  </thead>\n",
       "  <tbody>\n",
       "    <tr>\n",
       "      <th>0</th>\n",
       "      <td>Things</td>\n",
       "    </tr>\n",
       "    <tr>\n",
       "      <th>1</th>\n",
       "      <td>fall</td>\n",
       "    </tr>\n",
       "    <tr>\n",
       "      <th>2</th>\n",
       "      <td>apart</td>\n",
       "    </tr>\n",
       "    <tr>\n",
       "      <th>3</th>\n",
       "      <td>and</td>\n",
       "    </tr>\n",
       "    <tr>\n",
       "      <th>4</th>\n",
       "      <td>time</td>\n",
       "    </tr>\n",
       "  </tbody>\n",
       "</table>\n",
       "</div>"
      ],
      "text/plain": [
       "     Word\n",
       "0  Things\n",
       "1    fall\n",
       "2   apart\n",
       "3     and\n",
       "4    time"
      ]
     },
     "execution_count": 90,
     "metadata": {},
     "output_type": "execute_result"
    }
   ],
   "source": [
    "df.head()"
   ]
  },
  {
   "cell_type": "code",
   "execution_count": 91,
   "id": "38c1e2f8-cfb6-4730-92a2-bd4d5fe3b7ef",
   "metadata": {},
   "outputs": [
    {
     "data": {
      "text/html": [
       "<div>\n",
       "<style scoped>\n",
       "    .dataframe tbody tr th:only-of-type {\n",
       "        vertical-align: middle;\n",
       "    }\n",
       "\n",
       "    .dataframe tbody tr th {\n",
       "        vertical-align: top;\n",
       "    }\n",
       "\n",
       "    .dataframe thead th {\n",
       "        text-align: right;\n",
       "    }\n",
       "</style>\n",
       "<table border=\"1\" class=\"dataframe\">\n",
       "  <thead>\n",
       "    <tr style=\"text-align: right;\">\n",
       "      <th></th>\n",
       "      <th>Word</th>\n",
       "    </tr>\n",
       "  </thead>\n",
       "  <tbody>\n",
       "    <tr>\n",
       "      <th>0</th>\n",
       "      <td>Things</td>\n",
       "    </tr>\n",
       "    <tr>\n",
       "      <th>1</th>\n",
       "      <td>fall</td>\n",
       "    </tr>\n",
       "    <tr>\n",
       "      <th>2</th>\n",
       "      <td>apart</td>\n",
       "    </tr>\n",
       "    <tr>\n",
       "      <th>3</th>\n",
       "      <td>and</td>\n",
       "    </tr>\n",
       "    <tr>\n",
       "      <th>4</th>\n",
       "      <td>time</td>\n",
       "    </tr>\n",
       "    <tr>\n",
       "      <th>...</th>\n",
       "      <td>...</td>\n",
       "    </tr>\n",
       "    <tr>\n",
       "      <th>313</th>\n",
       "      <td>I</td>\n",
       "    </tr>\n",
       "    <tr>\n",
       "      <th>314</th>\n",
       "      <td>kept</td>\n",
       "    </tr>\n",
       "    <tr>\n",
       "      <th>315</th>\n",
       "      <td>it</td>\n",
       "    </tr>\n",
       "    <tr>\n",
       "      <th>316</th>\n",
       "      <td>to</td>\n",
       "    </tr>\n",
       "    <tr>\n",
       "      <th>317</th>\n",
       "      <td>myself</td>\n",
       "    </tr>\n",
       "  </tbody>\n",
       "</table>\n",
       "<p>318 rows × 1 columns</p>\n",
       "</div>"
      ],
      "text/plain": [
       "       Word\n",
       "0    Things\n",
       "1      fall\n",
       "2     apart\n",
       "3       and\n",
       "4      time\n",
       "..      ...\n",
       "313       I\n",
       "314    kept\n",
       "315      it\n",
       "316      to\n",
       "317  myself\n",
       "\n",
       "[318 rows x 1 columns]"
      ]
     },
     "execution_count": 91,
     "metadata": {},
     "output_type": "execute_result"
    }
   ],
   "source": [
    "df"
   ]
  },
  {
   "cell_type": "code",
   "execution_count": 101,
   "id": "38014097-57d0-4690-a596-deac16d37149",
   "metadata": {},
   "outputs": [],
   "source": [
    "import pandas as pd\n",
    "from collections import Counter \n",
    "import string"
   ]
  },
  {
   "cell_type": "code",
   "execution_count": 170,
   "id": "922d23db-8693-4d95-b967-cd0d92e5a6bf",
   "metadata": {},
   "outputs": [],
   "source": [
    "lyrics = \"\"\"\n",
    "I don't wanna share this space\n",
    "I don't wanna force a smile\n",
    "This one girl taps my insecurities\n",
    "Don't know if it's real or if I'm spiraling\n",
    "One voice tells me that they laugh\n",
    "George says, \"I'm just paranoid\"\n",
    "Says he just don't see it, he's so naive\n",
    "I'm embarrassed to have it, but need the sympathy\n",
    "'Cause I couldn't even be her if I tried\n",
    "I'm opposite, I'm on the other side\n",
    "I feel all these feelings I can't control\n",
    "Oh no, don't know why\n",
    "All this sympathy is just a knife\n",
    "Why I can't even grit my teeth and lie?\n",
    "I feel all these feelings I can't control\n",
    "Oh no, don't know\n",
    "Why I wanna buy a gun?\n",
    "Why I wanna shoot myself?\n",
    "Volatile at war with my dialogue\n",
    "I'd say that there was a God if they could stop this\n",
    "Wild voice tearing me apart\n",
    "I'm so apprehensive now\n",
    "Don't wanna see her backstage at my boyfriend's show\n",
    "Fingers crossed behind my back, I hope they break up quick\n",
    "'Cause I couldn't even be her if I tried\n",
    "I'm opposite, I'm on the other side\n",
    "I feel all these feelings I can't control\n",
    "Oh no, don't know why\n",
    "All this sympathy is just a knife\n",
    "Why I can't even grit my teeth and lie?\n",
    "I feel all these feelings I can't control (oh no)\n",
    "All this sympathy is just a knife\n",
    "All this sympathy is just a lie\n",
    "All this sympathy is just a knife\n",
    "Yeah, all this sympathy is just a lie\n",
    "Oh no, oh no\n",
    "Why is all this sympathy a fucking knife?\n",
    "Yeah, all this sympathy is just a lie\n",
    "Couldn't even be her if I tried\n",
    "Oh no, oh no\n",
    "\"\"\""
   ]
  },
  {
   "cell_type": "code",
   "execution_count": 171,
   "id": "ec771e47-5bff-4893-a055-9e4a81f3373f",
   "metadata": {},
   "outputs": [],
   "source": [
    "normalized_lyrics = lyrics.translate(str.maketrans('','', string.punctuation)).lower()"
   ]
  },
  {
   "cell_type": "code",
   "execution_count": 172,
   "id": "09c66e95-e435-46c8-a565-719f4bb55f23",
   "metadata": {},
   "outputs": [],
   "source": [
    "words = normalized_lyrics.split()"
   ]
  },
  {
   "cell_type": "code",
   "execution_count": 173,
   "id": "1544553f-ccc1-472d-8fda-4a94a817cab0",
   "metadata": {},
   "outputs": [],
   "source": [
    "word_counts = Counter(words)"
   ]
  },
  {
   "cell_type": "code",
   "execution_count": 174,
   "id": "38a9679b-23f4-4873-be41-3faba2fc81b9",
   "metadata": {},
   "outputs": [],
   "source": [
    "df = pd.DataFrame(word_counts.items(), columns=['Word', 'Frequency'])"
   ]
  },
  {
   "cell_type": "code",
   "execution_count": 175,
   "id": "405b0df7-879b-4e88-8ac9-0ec17073dfa2",
   "metadata": {},
   "outputs": [],
   "source": [
    "df = df.sort_values(by='Frequency', ascending=False).reset_index(drop=True)"
   ]
  },
  {
   "cell_type": "code",
   "execution_count": 176,
   "id": "b5ae176c-aa36-4c94-b630-733953fa2ec7",
   "metadata": {},
   "outputs": [
    {
     "data": {
      "text/html": [
       "<div>\n",
       "<style scoped>\n",
       "    .dataframe tbody tr th:only-of-type {\n",
       "        vertical-align: middle;\n",
       "    }\n",
       "\n",
       "    .dataframe tbody tr th {\n",
       "        vertical-align: top;\n",
       "    }\n",
       "\n",
       "    .dataframe thead th {\n",
       "        text-align: right;\n",
       "    }\n",
       "</style>\n",
       "<table border=\"1\" class=\"dataframe\">\n",
       "  <thead>\n",
       "    <tr style=\"text-align: right;\">\n",
       "      <th></th>\n",
       "      <th>Word</th>\n",
       "      <th>Frequency</th>\n",
       "    </tr>\n",
       "  </thead>\n",
       "  <tbody>\n",
       "    <tr>\n",
       "      <th>0</th>\n",
       "      <td>i</td>\n",
       "      <td>20</td>\n",
       "    </tr>\n",
       "    <tr>\n",
       "      <th>1</th>\n",
       "      <td>all</td>\n",
       "      <td>12</td>\n",
       "    </tr>\n",
       "    <tr>\n",
       "      <th>2</th>\n",
       "      <td>this</td>\n",
       "      <td>11</td>\n",
       "    </tr>\n",
       "    <tr>\n",
       "      <th>3</th>\n",
       "      <td>a</td>\n",
       "      <td>11</td>\n",
       "    </tr>\n",
       "    <tr>\n",
       "      <th>4</th>\n",
       "      <td>just</td>\n",
       "      <td>9</td>\n",
       "    </tr>\n",
       "  </tbody>\n",
       "</table>\n",
       "</div>"
      ],
      "text/plain": [
       "   Word  Frequency\n",
       "0     i         20\n",
       "1   all         12\n",
       "2  this         11\n",
       "3     a         11\n",
       "4  just          9"
      ]
     },
     "execution_count": 176,
     "metadata": {},
     "output_type": "execute_result"
    }
   ],
   "source": [
    "df.head()"
   ]
  },
  {
   "cell_type": "code",
   "execution_count": 177,
   "id": "92c812b6-5f1d-4942-947a-bf7fa63a3550",
   "metadata": {},
   "outputs": [
    {
     "data": {
      "text/html": [
       "<div>\n",
       "<style scoped>\n",
       "    .dataframe tbody tr th:only-of-type {\n",
       "        vertical-align: middle;\n",
       "    }\n",
       "\n",
       "    .dataframe tbody tr th {\n",
       "        vertical-align: top;\n",
       "    }\n",
       "\n",
       "    .dataframe thead th {\n",
       "        text-align: right;\n",
       "    }\n",
       "</style>\n",
       "<table border=\"1\" class=\"dataframe\">\n",
       "  <thead>\n",
       "    <tr style=\"text-align: right;\">\n",
       "      <th></th>\n",
       "      <th>Word</th>\n",
       "      <th>Frequency</th>\n",
       "    </tr>\n",
       "  </thead>\n",
       "  <tbody>\n",
       "    <tr>\n",
       "      <th>0</th>\n",
       "      <td>i</td>\n",
       "      <td>20</td>\n",
       "    </tr>\n",
       "    <tr>\n",
       "      <th>1</th>\n",
       "      <td>all</td>\n",
       "      <td>12</td>\n",
       "    </tr>\n",
       "    <tr>\n",
       "      <th>2</th>\n",
       "      <td>this</td>\n",
       "      <td>11</td>\n",
       "    </tr>\n",
       "    <tr>\n",
       "      <th>3</th>\n",
       "      <td>a</td>\n",
       "      <td>11</td>\n",
       "    </tr>\n",
       "    <tr>\n",
       "      <th>4</th>\n",
       "      <td>just</td>\n",
       "      <td>9</td>\n",
       "    </tr>\n",
       "    <tr>\n",
       "      <th>5</th>\n",
       "      <td>sympathy</td>\n",
       "      <td>9</td>\n",
       "    </tr>\n",
       "    <tr>\n",
       "      <th>6</th>\n",
       "      <td>im</td>\n",
       "      <td>8</td>\n",
       "    </tr>\n",
       "    <tr>\n",
       "      <th>7</th>\n",
       "      <td>no</td>\n",
       "      <td>8</td>\n",
       "    </tr>\n",
       "    <tr>\n",
       "      <th>8</th>\n",
       "      <td>oh</td>\n",
       "      <td>8</td>\n",
       "    </tr>\n",
       "    <tr>\n",
       "      <th>9</th>\n",
       "      <td>dont</td>\n",
       "      <td>8</td>\n",
       "    </tr>\n",
       "    <tr>\n",
       "      <th>10</th>\n",
       "      <td>is</td>\n",
       "      <td>8</td>\n",
       "    </tr>\n",
       "    <tr>\n",
       "      <th>11</th>\n",
       "      <td>why</td>\n",
       "      <td>7</td>\n",
       "    </tr>\n",
       "    <tr>\n",
       "      <th>12</th>\n",
       "      <td>cant</td>\n",
       "      <td>6</td>\n",
       "    </tr>\n",
       "    <tr>\n",
       "      <th>13</th>\n",
       "      <td>my</td>\n",
       "      <td>6</td>\n",
       "    </tr>\n",
       "    <tr>\n",
       "      <th>14</th>\n",
       "      <td>if</td>\n",
       "      <td>6</td>\n",
       "    </tr>\n",
       "    <tr>\n",
       "      <th>15</th>\n",
       "      <td>even</td>\n",
       "      <td>5</td>\n",
       "    </tr>\n",
       "    <tr>\n",
       "      <th>16</th>\n",
       "      <td>wanna</td>\n",
       "      <td>5</td>\n",
       "    </tr>\n",
       "    <tr>\n",
       "      <th>17</th>\n",
       "      <td>knife</td>\n",
       "      <td>5</td>\n",
       "    </tr>\n",
       "    <tr>\n",
       "      <th>18</th>\n",
       "      <td>lie</td>\n",
       "      <td>5</td>\n",
       "    </tr>\n",
       "    <tr>\n",
       "      <th>19</th>\n",
       "      <td>her</td>\n",
       "      <td>4</td>\n",
       "    </tr>\n",
       "    <tr>\n",
       "      <th>20</th>\n",
       "      <td>feel</td>\n",
       "      <td>4</td>\n",
       "    </tr>\n",
       "    <tr>\n",
       "      <th>21</th>\n",
       "      <td>know</td>\n",
       "      <td>4</td>\n",
       "    </tr>\n",
       "    <tr>\n",
       "      <th>22</th>\n",
       "      <td>feelings</td>\n",
       "      <td>4</td>\n",
       "    </tr>\n",
       "    <tr>\n",
       "      <th>23</th>\n",
       "      <td>these</td>\n",
       "      <td>4</td>\n",
       "    </tr>\n",
       "    <tr>\n",
       "      <th>24</th>\n",
       "      <td>control</td>\n",
       "      <td>4</td>\n",
       "    </tr>\n",
       "    <tr>\n",
       "      <th>25</th>\n",
       "      <td>be</td>\n",
       "      <td>3</td>\n",
       "    </tr>\n",
       "    <tr>\n",
       "      <th>26</th>\n",
       "      <td>they</td>\n",
       "      <td>3</td>\n",
       "    </tr>\n",
       "    <tr>\n",
       "      <th>27</th>\n",
       "      <td>the</td>\n",
       "      <td>3</td>\n",
       "    </tr>\n",
       "    <tr>\n",
       "      <th>28</th>\n",
       "      <td>tried</td>\n",
       "      <td>3</td>\n",
       "    </tr>\n",
       "    <tr>\n",
       "      <th>29</th>\n",
       "      <td>couldnt</td>\n",
       "      <td>3</td>\n",
       "    </tr>\n",
       "  </tbody>\n",
       "</table>\n",
       "</div>"
      ],
      "text/plain": [
       "        Word  Frequency\n",
       "0          i         20\n",
       "1        all         12\n",
       "2       this         11\n",
       "3          a         11\n",
       "4       just          9\n",
       "5   sympathy          9\n",
       "6         im          8\n",
       "7         no          8\n",
       "8         oh          8\n",
       "9       dont          8\n",
       "10        is          8\n",
       "11       why          7\n",
       "12      cant          6\n",
       "13        my          6\n",
       "14        if          6\n",
       "15      even          5\n",
       "16     wanna          5\n",
       "17     knife          5\n",
       "18       lie          5\n",
       "19       her          4\n",
       "20      feel          4\n",
       "21      know          4\n",
       "22  feelings          4\n",
       "23     these          4\n",
       "24   control          4\n",
       "25        be          3\n",
       "26      they          3\n",
       "27       the          3\n",
       "28     tried          3\n",
       "29   couldnt          3"
      ]
     },
     "execution_count": 177,
     "metadata": {},
     "output_type": "execute_result"
    }
   ],
   "source": [
    "df.head(30)"
   ]
  },
  {
   "cell_type": "code",
   "execution_count": 178,
   "id": "9982f4ed-d61f-4528-9051-55691a471a33",
   "metadata": {},
   "outputs": [],
   "source": [
    "import matplotlib.pyplot as plt"
   ]
  },
  {
   "cell_type": "code",
   "execution_count": 179,
   "id": "806542b4-daf8-4065-90a8-7d98c07b6386",
   "metadata": {},
   "outputs": [],
   "source": [
    "top_20 = df.head(20)"
   ]
  },
  {
   "cell_type": "code",
   "execution_count": 180,
   "id": "1c6382b6-9b7f-4902-a68c-65e525f1f110",
   "metadata": {},
   "outputs": [
    {
     "data": {
      "image/png": "[encoded data removed]",
      "text/plain": [
       "<Figure size 1000x600 with 1 Axes>"
      ]
     },
     "metadata": {},
     "output_type": "display_data"
    }
   ],
   "source": [
    "plt.figure(figsize=(10, 6))\n",
    "plt.bar(top_20['Word'], top_20['Frequency'])\n",
    "plt.xlabel('Words', fontsize=12)\n",
    "plt.ylabel('Frequency', fontsize=12)\n",
    "plt.title('Sympathy is a knife - Charli xcx', fontsize=14)\n",
    "plt.xticks(rotation=45, ha='right')\n",
    "plt.tight_layout()\n",
    "plt.show()"
   ]
  }
 ],
 "metadata": {
  "kernelspec": {
   "display_name": "Python 3 (ipykernel)",
   "language": "python",
   "name": "python3"
  },
  "language_info": {
   "codemirror_mode": {
    "name": "ipython",
    "version": 3
   },
   "file_extension": ".py",
   "mimetype": "text/x-python",
   "name": "python",
   "nbconvert_exporter": "python",
   "pygments_lexer": "ipython3",
   "version": "3.12.6"
  }
 },
 "nbformat": 4,
 "nbformat_minor": 5
}
